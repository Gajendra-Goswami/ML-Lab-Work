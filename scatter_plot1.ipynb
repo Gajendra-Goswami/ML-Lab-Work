{
  "nbformat": 4,
  "nbformat_minor": 0,
  "metadata": {
    "colab": {
      "name": "scatter plot1.ipynb",
      "provenance": []
    },
    "kernelspec": {
      "name": "python3",
      "display_name": "Python 3"
    },
    "language_info": {
      "name": "python"
    }
  },
  "cells": [
    {
      "cell_type": "code",
      "metadata": {
        "id": "ipzQSNe-cpFc"
      },
      "source": [
        "import matplotlib.pyplot as plt"
      ],
      "execution_count": 2,
      "outputs": []
    },
    {
      "cell_type": "code",
      "metadata": {
        "colab": {
          "base_uri": "https://localhost:8080/",
          "height": 295
        },
        "id": "j4De9b6qcoLV",
        "outputId": "84c83f9d-baad-4973-cad7-19a3d4416ad4"
      },
      "source": [
        "x=[1,2,3,4,5,6,7,8,9,10]\n",
        "y=[2,3,4,5,6,7,8,9,7,8]\n",
        "plt.scatter(x,y,label=\"stars\",color='green',marker=\"*\",s=30)\n",
        "plt.xlabel('x-asix')\n",
        "plt.ylabel('y-axis')\n",
        "plt.title('scatter plot')\n",
        "plt.legend()\n",
        "plt.show()"
      ],
      "execution_count": 3,
      "outputs": [
        {
          "output_type": "display_data",
          "data": {
            "image/png": "[encoded data removed]",
            "text/plain": [
              "<Figure size 432x288 with 1 Axes>"
            ]
          },
          "metadata": {
            "tags": [],
            "needs_background": "light"
          }
        }
      ]
    },
    {
      "cell_type": "code",
      "metadata": {
        "id": "1nZm85iedNLY"
      },
      "source": [
        ""
      ],
      "execution_count": null,
      "outputs": []
    }
  ]
}