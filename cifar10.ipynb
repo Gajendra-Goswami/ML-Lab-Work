{
  "nbformat": 4,
  "nbformat_minor": 0,
  "metadata": {
    "colab": {
      "name": " cifar10.ipynb",
      "provenance": [],
      "collapsed_sections": []
    },
    "kernelspec": {
      "name": "python3",
      "display_name": "Python 3"
    },
    "accelerator": "GPU"
  },
  "cells": [
    {
      "cell_type": "code",
      "metadata": {
        "id": "6OrmH99i24qH"
      },
      "source": [
        ""
      ],
      "execution_count": null,
      "outputs": []
    },
    {
      "cell_type": "code",
      "metadata": {
        "id": "wok7uJxRRGXn"
      },
      "source": [
        "import warnings\n",
        "warnings.filterwarnings('ignore')\n",
        "\n",
        "import numpy as np\n",
        "import matplotlib.pyplot as plt\n",
        "import keras\n",
        "from keras.datasets import mnist\n",
        "from keras.models import Sequential,model_from_json\n",
        "from keras.layers import Dense\n",
        "from keras.optimizers import RMSprop\n",
        "import pylab as plt"
      ],
      "execution_count": 2,
      "outputs": []
    },
    {
      "cell_type": "code",
      "metadata": {
        "id": "rLrjw9n4Qwhc",
        "colab": {
          "base_uri": "https://localhost:8080/"
        },
        "outputId": "270a82f3-0813-464b-ab06-70564cb7d47f"
      },
      "source": [
        "from keras.datasets import cifar10\n",
        "batch_size = 128\n",
        "num_classes = 10\n",
        "epochs = 2\n",
        "\n",
        "# the data, split between train and test sets\n",
        "(x_train, y_train), (x_test, y_test) = cifar10.load_data()\n",
        "print('x_train shape:', x_train.shape)\n",
        "print(x_train.shape[0], 'train samples')\n",
        "print(x_test.shape[0], 'test samples')\n",
        "\n",
        "x_train = x_train.reshape(50000, 3072)\n",
        "x_test = x_test.reshape(10000, 3072)\n",
        "x_train = x_train.astype('float32')\n",
        "x_test = x_test.astype('float32')\n",
        "\n",
        "# Normalize to 0 to 1 range\n",
        "x_train /= 255\n",
        "x_test /= 255\n",
        "\n",
        "print(x_train.shape[0], 'train samples')\n",
        "print(x_test.shape[0], 'test samples')\n",
        "# convert class vectors to binary class matrices\n",
        "y_train = keras.utils.to_categorical(y_train, num_classes)\n",
        "y_test = keras.utils.to_categorical(y_test, num_classes)\n",
        "\n"
      ],
      "execution_count": 3,
      "outputs": [
        {
          "output_type": "stream",
          "text": [
            "Downloading data from https://www.cs.toronto.edu/~kriz/cifar-10-python.tar.gz\n",
            "170500096/170498071 [==============================] - 4s 0us/step\n",
            "x_train shape: (50000, 32, 32, 3)\n",
            "50000 train samples\n",
            "10000 test samples\n",
            "50000 train samples\n",
            "10000 test samples\n"
          ],
          "name": "stdout"
        }
      ]
    },
    {
      "cell_type": "code",
      "metadata": {
        "id": "4GSz1VZbSuJR",
        "colab": {
          "base_uri": "https://localhost:8080/",
          "height": 283
        },
        "outputId": "2fa91a73-cd3a-4e31-cd28-7f2cef43980b"
      },
      "source": [
        "print(\"Label:\",y_test[12:13])\n",
        "plt.imshow(x_test[12:13].reshape(32,32,3), cmap='gray')\n",
        "plt.show()"
      ],
      "execution_count": null,
      "outputs": [
        {
          "output_type": "stream",
          "text": [
            "Label: [[0. 0. 0. 0. 0. 1. 0. 0. 0. 0.]]\n"
          ],
          "name": "stdout"
        },
        {
          "output_type": "display_data",
          "data": {
            "image/png": "[encoded data removed]",
            "text/plain": [
              "<Figure size 432x288 with 1 Axes>"
            ]
          },
          "metadata": {
            "tags": [],
            "needs_background": "light"
          }
        }
      ]
    },
    {
      "cell_type": "code",
      "metadata": {
        "id": "djmtkLpkTXil",
        "colab": {
          "base_uri": "https://localhost:8080/"
        },
        "outputId": "7ee7cdd5-23a0-44cf-c0ed-afbe02a3b5b5"
      },
      "source": [
        "from keras.layers import Dropout\n",
        "from keras.optimizers import RMSprop\n",
        "\n",
        "model = Sequential()\n",
        "\n",
        "model.add(Dense(2048,activation='relu', input_shape=(3072,)))\n",
        "\n",
        "model.add(Dense(1024, activation='relu'))\n",
        "\n",
        "model.add(Dense(512, activation='relu'))\n",
        "model.add(Dense(128, activation='relu'))\n",
        "model.add(Dense(64, activation='relu'))\n",
        "model.add(Dense(32, activation='relu'))\n",
        "model.add(Dense(num_classes, activation='softmax'))\n",
        "\n",
        "model.summary()\n",
        "#multiclassthereforecategoricalcrossentropy\n",
        "model.compile(loss='categorical_crossentropy',\n",
        "              optimizer=RMSprop(),\n",
        "              metrics=['accuracy'])\n",
        "\n",
        "history = model.fit(x_train, y_train,\n",
        "                    batch_size=batch_size,\n",
        "                    epochs=5,\n",
        "                    verbose=1,\n",
        "                    validation_data=(x_test, y_test))\n",
        "score = model.evaluate(x_test, y_test, verbose=0)\n",
        "print('Test loss:', score[0])\n",
        "print('Test accuracy:', score[1])"
      ],
      "execution_count": 6,
      "outputs": [
        {
          "output_type": "stream",
          "text": [
            "Model: \"sequential_1\"\n",
            "_________________________________________________________________\n",
            "Layer (type)                 Output Shape              Param #   \n",
            "=================================================================\n",
            "dense_7 (Dense)              (None, 2048)              6293504   \n",
            "_________________________________________________________________\n",
            "dense_8 (Dense)              (None, 1024)              2098176   \n",
            "_________________________________________________________________\n",
            "dense_9 (Dense)              (None, 512)               524800    \n",
            "_________________________________________________________________\n",
            "dense_10 (Dense)             (None, 128)               65664     \n",
            "_________________________________________________________________\n",
            "dense_11 (Dense)             (None, 64)                8256      \n",
            "_________________________________________________________________\n",
            "dense_12 (Dense)             (None, 32)                2080      \n",
            "_________________________________________________________________\n",
            "dense_13 (Dense)             (None, 10)                330       \n",
            "=================================================================\n",
            "Total params: 8,992,810\n",
            "Trainable params: 8,992,810\n",
            "Non-trainable params: 0\n",
            "_________________________________________________________________\n",
            "Epoch 1/5\n",
            "391/391 [==============================] - 4s 8ms/step - loss: 2.7727 - accuracy: 0.1601 - val_loss: 1.8877 - val_accuracy: 0.3158\n",
            "Epoch 2/5\n",
            "391/391 [==============================] - 3s 8ms/step - loss: 1.9172 - accuracy: 0.3093 - val_loss: 1.8165 - val_accuracy: 0.3395\n",
            "Epoch 3/5\n",
            "391/391 [==============================] - 3s 8ms/step - loss: 1.7961 - accuracy: 0.3578 - val_loss: 1.7424 - val_accuracy: 0.3664\n",
            "Epoch 4/5\n",
            "391/391 [==============================] - 3s 8ms/step - loss: 1.7297 - accuracy: 0.3746 - val_loss: 1.7981 - val_accuracy: 0.3673\n",
            "Epoch 5/5\n",
            "391/391 [==============================] - 3s 8ms/step - loss: 1.6666 - accuracy: 0.4020 - val_loss: 1.6365 - val_accuracy: 0.4129\n",
            "Test loss: 1.6365256309509277\n",
            "Test accuracy: 0.41290000081062317\n"
          ],
          "name": "stdout"
        }
      ]
    },
    {
      "cell_type": "code",
      "metadata": {
        "id": "4ok_zATxXIkO",
        "colab": {
          "base_uri": "https://localhost:8080/"
        },
        "outputId": "b9f77d62-ec32-4260-d786-6a8f36fc7b58"
      },
      "source": [
        "from keras.layers import Dropout\n",
        "from keras.optimizers import Adam\n",
        "\n",
        "model = Sequential()\n",
        "\n",
        "model.add(Dense(4096,activation='tanh', input_shape=(3072,)))\n",
        "\n",
        "model.add(Dense(1024, activation='relu'))\n",
        "\n",
        "model.add(Dense(512, activation='relu'))\n",
        "model.add(Dense(128, activation='relu'))\n",
        "model.add(Dense(64, activation='relu'))\n",
        "model.add(Dense(32, activation='relu'))\n",
        "model.add(Dense(num_classes, activation='softmax'))\n",
        "\n",
        "model.summary()\n",
        "model.compile(loss='categorical_crossentropy',\n",
        "              optimizer=Adam(),\n",
        "              metrics=['accuracy'])\n",
        "\n",
        "history = model.fit(x_train, y_train,\n",
        "                    batch_size=batch_size,\n",
        "                    epochs=5,\n",
        "                    verbose=1,\n",
        "                    validation_data=(x_test, y_test))\n",
        "score = model.evaluate(x_test, y_test, verbose=0)\n",
        "print('Test loss:', score[0])\n",
        "print('Test accuracy:', score[1])"
      ],
      "execution_count": 7,
      "outputs": [
        {
          "output_type": "stream",
          "text": [
            "Model: \"sequential_2\"\n",
            "_________________________________________________________________\n",
            "Layer (type)                 Output Shape              Param #   \n",
            "=================================================================\n",
            "dense_14 (Dense)             (None, 4096)              12587008  \n",
            "_________________________________________________________________\n",
            "dense_15 (Dense)             (None, 1024)              4195328   \n",
            "_________________________________________________________________\n",
            "dense_16 (Dense)             (None, 512)               524800    \n",
            "_________________________________________________________________\n",
            "dense_17 (Dense)             (None, 128)               65664     \n",
            "_________________________________________________________________\n",
            "dense_18 (Dense)             (None, 64)                8256      \n",
            "_________________________________________________________________\n",
            "dense_19 (Dense)             (None, 32)                2080      \n",
            "_________________________________________________________________\n",
            "dense_20 (Dense)             (None, 10)                330       \n",
            "=================================================================\n",
            "Total params: 17,383,466\n",
            "Trainable params: 17,383,466\n",
            "Non-trainable params: 0\n",
            "_________________________________________________________________\n",
            "Epoch 1/5\n",
            "391/391 [==============================] - 4s 8ms/step - loss: 2.2308 - accuracy: 0.1618 - val_loss: 1.9381 - val_accuracy: 0.2693\n",
            "Epoch 2/5\n",
            "391/391 [==============================] - 3s 8ms/step - loss: 1.9451 - accuracy: 0.2641 - val_loss: 1.8579 - val_accuracy: 0.3021\n",
            "Epoch 3/5\n",
            "391/391 [==============================] - 3s 8ms/step - loss: 1.8792 - accuracy: 0.2987 - val_loss: 1.8209 - val_accuracy: 0.3314\n",
            "Epoch 4/5\n",
            "391/391 [==============================] - 3s 8ms/step - loss: 1.8497 - accuracy: 0.3178 - val_loss: 1.8148 - val_accuracy: 0.3254\n",
            "Epoch 5/5\n",
            "391/391 [==============================] - 3s 8ms/step - loss: 1.8164 - accuracy: 0.3346 - val_loss: 1.8030 - val_accuracy: 0.3381\n",
            "Test loss: 1.8029625415802002\n",
            "Test accuracy: 0.33809998631477356\n"
          ],
          "name": "stdout"
        }
      ]
    },
    {
      "cell_type": "code",
      "metadata": {
        "id": "_YTwFbKrXse_",
        "colab": {
          "base_uri": "https://localhost:8080/"
        },
        "outputId": "9261e313-cbea-4f07-98ef-98a24947db47"
      },
      "source": [
        "from keras.layers import Dropout\n",
        "from keras.optimizers import Adam\n",
        "\n",
        "model = Sequential()\n",
        "\n",
        "model.add(Dense(4096,activation='relu', input_shape=(3072,)))\n",
        "\n",
        "model.add(Dense(1024, activation='relu'))\n",
        "\n",
        "model.add(Dense(512, activation='relu'))\n",
        "model.add(Dense(128, activation='relu'))\n",
        "model.add(Dense(64, activation='relu'))\n",
        "model.add(Dense(32, activation='relu'))\n",
        "model.add(Dense(num_classes, activation='softmax'))\n",
        "\n",
        "model.summary()\n",
        "model.compile(loss='categorical_crossentropy',\n",
        "              optimizer=Adam(),\n",
        "              metrics=['accuracy'])\n",
        "\n",
        "history = model.fit(x_train, y_train,\n",
        "                    batch_size=batch_size,\n",
        "                    epochs=10,\n",
        "                    verbose=1,\n",
        "                    validation_data=(x_test, y_test))\n",
        "score = model.evaluate(x_test, y_test, verbose=0)\n",
        "print('Test loss:', score[0])\n",
        "print('Test accuracy:', score[1])"
      ],
      "execution_count": 8,
      "outputs": [
        {
          "output_type": "stream",
          "text": [
            "Model: \"sequential_3\"\n",
            "_________________________________________________________________\n",
            "Layer (type)                 Output Shape              Param #   \n",
            "=================================================================\n",
            "dense_21 (Dense)             (None, 4096)              12587008  \n",
            "_________________________________________________________________\n",
            "dense_22 (Dense)             (None, 1024)              4195328   \n",
            "_________________________________________________________________\n",
            "dense_23 (Dense)             (None, 512)               524800    \n",
            "_________________________________________________________________\n",
            "dense_24 (Dense)             (None, 128)               65664     \n",
            "_________________________________________________________________\n",
            "dense_25 (Dense)             (None, 64)                8256      \n",
            "_________________________________________________________________\n",
            "dense_26 (Dense)             (None, 32)                2080      \n",
            "_________________________________________________________________\n",
            "dense_27 (Dense)             (None, 10)                330       \n",
            "=================================================================\n",
            "Total params: 17,383,466\n",
            "Trainable params: 17,383,466\n",
            "Non-trainable params: 0\n",
            "_________________________________________________________________\n",
            "Epoch 1/10\n",
            "391/391 [==============================] - 4s 8ms/step - loss: 2.3027 - accuracy: 0.1776 - val_loss: 1.8302 - val_accuracy: 0.3234\n",
            "Epoch 2/10\n",
            "391/391 [==============================] - 3s 8ms/step - loss: 1.7845 - accuracy: 0.3497 - val_loss: 1.7358 - val_accuracy: 0.3694\n",
            "Epoch 3/10\n",
            "391/391 [==============================] - 3s 8ms/step - loss: 1.6807 - accuracy: 0.3981 - val_loss: 1.6193 - val_accuracy: 0.4232\n",
            "Epoch 4/10\n",
            "391/391 [==============================] - 3s 8ms/step - loss: 1.6143 - accuracy: 0.4189 - val_loss: 1.5559 - val_accuracy: 0.4425\n",
            "Epoch 5/10\n",
            "391/391 [==============================] - 3s 8ms/step - loss: 1.5418 - accuracy: 0.4527 - val_loss: 1.5142 - val_accuracy: 0.4621\n",
            "Epoch 6/10\n",
            "391/391 [==============================] - 3s 8ms/step - loss: 1.4981 - accuracy: 0.4643 - val_loss: 1.5141 - val_accuracy: 0.4625\n",
            "Epoch 7/10\n",
            "391/391 [==============================] - 3s 8ms/step - loss: 1.4465 - accuracy: 0.4842 - val_loss: 1.5114 - val_accuracy: 0.4491\n",
            "Epoch 8/10\n",
            "391/391 [==============================] - 3s 8ms/step - loss: 1.4190 - accuracy: 0.4910 - val_loss: 1.4650 - val_accuracy: 0.4761\n",
            "Epoch 9/10\n",
            "391/391 [==============================] - 3s 8ms/step - loss: 1.3901 - accuracy: 0.5020 - val_loss: 1.4806 - val_accuracy: 0.4821\n",
            "Epoch 10/10\n",
            "391/391 [==============================] - 3s 8ms/step - loss: 1.3531 - accuracy: 0.5156 - val_loss: 1.4375 - val_accuracy: 0.4905\n",
            "Test loss: 1.437535047531128\n",
            "Test accuracy: 0.49050000309944153\n"
          ],
          "name": "stdout"
        }
      ]
    },
    {
      "cell_type": "code",
      "metadata": {
        "id": "ETTxYi1VYTyU",
        "colab": {
          "base_uri": "https://localhost:8080/"
        },
        "outputId": "e54de917-7420-4a28-8e52-730b886cfd77"
      },
      "source": [
        "from keras.layers import Dropout\n",
        "from keras.optimizers import Adam\n",
        "\n",
        "model = Sequential()\n",
        "\n",
        "model.add(Dense(1024,activation='relu', input_shape=(3072,)))\n",
        "\n",
        "model.add(Dense(1024, activation='relu'))\n",
        "\n",
        "model.add(Dense(512, activation='relu'))\n",
        "model.add(Dense(128, activation='relu'))\n",
        "model.add(Dense(64, activation='relu'))\n",
        "model.add(Dense(32, activation='relu'))\n",
        "model.add(Dense(num_classes, activation='softmax'))\n",
        "\n",
        "model.summary()\n",
        "model.compile(loss='categorical_crossentropy',\n",
        "              optimizer=Adam(),\n",
        "              metrics=['accuracy'])\n",
        "\n",
        "history = model.fit(x_train, y_train,\n",
        "                    batch_size=batch_size,\n",
        "                    epochs=15,\n",
        "                    verbose=1,\n",
        "                    validation_data=(x_test, y_test))\n",
        "score = model.evaluate(x_test, y_test, verbose=0)\n",
        "print('Test loss:', score[0])\n",
        "print('Test accuracy:', score[1])"
      ],
      "execution_count": 9,
      "outputs": [
        {
          "output_type": "stream",
          "text": [
            "Model: \"sequential_4\"\n",
            "_________________________________________________________________\n",
            "Layer (type)                 Output Shape              Param #   \n",
            "=================================================================\n",
            "dense_28 (Dense)             (None, 1024)              3146752   \n",
            "_________________________________________________________________\n",
            "dense_29 (Dense)             (None, 1024)              1049600   \n",
            "_________________________________________________________________\n",
            "dense_30 (Dense)             (None, 512)               524800    \n",
            "_________________________________________________________________\n",
            "dense_31 (Dense)             (None, 128)               65664     \n",
            "_________________________________________________________________\n",
            "dense_32 (Dense)             (None, 64)                8256      \n",
            "_________________________________________________________________\n",
            "dense_33 (Dense)             (None, 32)                2080      \n",
            "_________________________________________________________________\n",
            "dense_34 (Dense)             (None, 10)                330       \n",
            "=================================================================\n",
            "Total params: 4,797,482\n",
            "Trainable params: 4,797,482\n",
            "Non-trainable params: 0\n",
            "_________________________________________________________________\n",
            "Epoch 1/15\n",
            "391/391 [==============================] - 2s 5ms/step - loss: 2.2092 - accuracy: 0.1581 - val_loss: 1.8909 - val_accuracy: 0.2937\n",
            "Epoch 2/15\n",
            "391/391 [==============================] - 2s 4ms/step - loss: 1.8455 - accuracy: 0.3175 - val_loss: 1.7267 - val_accuracy: 0.3785\n",
            "Epoch 3/15\n",
            "391/391 [==============================] - 2s 4ms/step - loss: 1.7092 - accuracy: 0.3815 - val_loss: 1.6849 - val_accuracy: 0.3864\n",
            "Epoch 4/15\n",
            "391/391 [==============================] - 2s 4ms/step - loss: 1.6347 - accuracy: 0.4087 - val_loss: 1.6421 - val_accuracy: 0.4041\n",
            "Epoch 5/15\n",
            "391/391 [==============================] - 2s 4ms/step - loss: 1.5601 - accuracy: 0.4405 - val_loss: 1.5223 - val_accuracy: 0.4586\n",
            "Epoch 6/15\n",
            "391/391 [==============================] - 2s 4ms/step - loss: 1.4888 - accuracy: 0.4624 - val_loss: 1.4997 - val_accuracy: 0.4652\n",
            "Epoch 7/15\n",
            "391/391 [==============================] - 2s 4ms/step - loss: 1.4627 - accuracy: 0.4750 - val_loss: 1.5095 - val_accuracy: 0.4587\n",
            "Epoch 8/15\n",
            "391/391 [==============================] - 2s 4ms/step - loss: 1.4183 - accuracy: 0.4893 - val_loss: 1.4574 - val_accuracy: 0.4784\n",
            "Epoch 9/15\n",
            "391/391 [==============================] - 2s 4ms/step - loss: 1.3650 - accuracy: 0.5079 - val_loss: 1.4860 - val_accuracy: 0.4679\n",
            "Epoch 10/15\n",
            "391/391 [==============================] - 2s 5ms/step - loss: 1.3560 - accuracy: 0.5081 - val_loss: 1.4318 - val_accuracy: 0.4956\n",
            "Epoch 11/15\n",
            "391/391 [==============================] - 2s 4ms/step - loss: 1.3136 - accuracy: 0.5287 - val_loss: 1.4127 - val_accuracy: 0.5025\n",
            "Epoch 12/15\n",
            "391/391 [==============================] - 2s 5ms/step - loss: 1.2891 - accuracy: 0.5407 - val_loss: 1.4509 - val_accuracy: 0.4839\n",
            "Epoch 13/15\n",
            "391/391 [==============================] - 2s 4ms/step - loss: 1.2437 - accuracy: 0.5537 - val_loss: 1.4054 - val_accuracy: 0.5051\n",
            "Epoch 14/15\n",
            "391/391 [==============================] - 2s 4ms/step - loss: 1.2011 - accuracy: 0.5675 - val_loss: 1.3930 - val_accuracy: 0.5112\n",
            "Epoch 15/15\n",
            "391/391 [==============================] - 2s 4ms/step - loss: 1.1746 - accuracy: 0.5792 - val_loss: 1.4040 - val_accuracy: 0.5117\n",
            "Test loss: 1.4040462970733643\n",
            "Test accuracy: 0.5116999745368958\n"
          ],
          "name": "stdout"
        }
      ]
    },
    {
      "cell_type": "code",
      "metadata": {
        "id": "5XHfHM1T4rMZ"
      },
      "source": [
        "#summarizehistory\n"
      ],
      "execution_count": 10,
      "outputs": []
    },
    {
      "cell_type": "code",
      "metadata": {
        "id": "aCuYVKL-5soU",
        "colab": {
          "base_uri": "https://localhost:8080/",
          "height": 246
        },
        "outputId": "506b9f59-a862-4fed-995e-1ca0e01ce802"
      },
      "source": [
        "#history = model.fit(x_train, y_train, validation_split=0.33, epochs=150, batch_size=10, verbose=0)\n",
        "# list all data in history\n",
        "print(history.history.keys())\n",
        "# summarize history for accuracy\n",
        "plt.plot(history.history['acc'])\n",
        "plt.plot(history.history['val_acc'])\n",
        "plt.title('model accuracy')\n",
        "plt.ylabel('accuracy')\n",
        "plt.xlabel('epoch')\n",
        "plt.legend(['train', 'test'], loc='upper left')\n",
        "plt.show()\n",
        "# summarize history for loss\n",
        "plt.plot(history.history['loss'])\n",
        "plt.plot(history.history['val_loss'])\n",
        "plt.title('model loss')\n",
        "plt.ylabel('loss')\n",
        "plt.xlabel('epoch')\n",
        "plt.legend(['train', 'test'], loc='upper left')\n",
        "plt.show()"
      ],
      "execution_count": 14,
      "outputs": [
        {
          "output_type": "stream",
          "text": [
            "dict_keys(['loss', 'accuracy', 'val_loss', 'val_accuracy'])\n"
          ],
          "name": "stdout"
        },
        {
          "output_type": "error",
          "ename": "KeyError",
          "evalue": "ignored",
          "traceback": [
            "\u001b[0;31m---------------------------------------------------------------------------\u001b[0m",
            "\u001b[0;31mKeyError\u001b[0m                                  Traceback (most recent call last)",
            "\u001b[0;32m<ipython-input-14-490a0e454a6c>\u001b[0m in \u001b[0;36m<module>\u001b[0;34m()\u001b[0m\n\u001b[1;32m      3\u001b[0m \u001b[0mprint\u001b[0m\u001b[0;34m(\u001b[0m\u001b[0mhistory\u001b[0m\u001b[0;34m.\u001b[0m\u001b[0mhistory\u001b[0m\u001b[0;34m.\u001b[0m\u001b[0mkeys\u001b[0m\u001b[0;34m(\u001b[0m\u001b[0;34m)\u001b[0m\u001b[0;34m)\u001b[0m\u001b[0;34m\u001b[0m\u001b[0;34m\u001b[0m\u001b[0m\n\u001b[1;32m      4\u001b[0m \u001b[0;31m# summarize history for accuracy\u001b[0m\u001b[0;34m\u001b[0m\u001b[0;34m\u001b[0m\u001b[0;34m\u001b[0m\u001b[0m\n\u001b[0;32m----> 5\u001b[0;31m \u001b[0mplt\u001b[0m\u001b[0;34m.\u001b[0m\u001b[0mplot\u001b[0m\u001b[0;34m(\u001b[0m\u001b[0mhistory\u001b[0m\u001b[0;34m.\u001b[0m\u001b[0mhistory\u001b[0m\u001b[0;34m[\u001b[0m\u001b[0;34m'acc'\u001b[0m\u001b[0;34m]\u001b[0m\u001b[0;34m)\u001b[0m\u001b[0;34m\u001b[0m\u001b[0;34m\u001b[0m\u001b[0m\n\u001b[0m\u001b[1;32m      6\u001b[0m \u001b[0mplt\u001b[0m\u001b[0;34m.\u001b[0m\u001b[0mplot\u001b[0m\u001b[0;34m(\u001b[0m\u001b[0mhistory\u001b[0m\u001b[0;34m.\u001b[0m\u001b[0mhistory\u001b[0m\u001b[0;34m[\u001b[0m\u001b[0;34m'val_acc'\u001b[0m\u001b[0;34m]\u001b[0m\u001b[0;34m)\u001b[0m\u001b[0;34m\u001b[0m\u001b[0;34m\u001b[0m\u001b[0m\n\u001b[1;32m      7\u001b[0m \u001b[0mplt\u001b[0m\u001b[0;34m.\u001b[0m\u001b[0mtitle\u001b[0m\u001b[0;34m(\u001b[0m\u001b[0;34m'model accuracy'\u001b[0m\u001b[0;34m)\u001b[0m\u001b[0;34m\u001b[0m\u001b[0;34m\u001b[0m\u001b[0m\n",
            "\u001b[0;31mKeyError\u001b[0m: 'acc'"
          ]
        }
      ]
    },
    {
      "cell_type": "code",
      "metadata": {
        "id": "5ThlAa2G40aa"
      },
      "source": [
        "#nexttwocellforcifar100"
      ],
      "execution_count": 15,
      "outputs": []
    },
    {
      "cell_type": "code",
      "metadata": {
        "id": "N5FWnvub4qG4",
        "colab": {
          "base_uri": "https://localhost:8080/",
          "height": 229
        },
        "outputId": "26aecf60-cf0f-435a-a33c-69e086dbec1f"
      },
      "source": [
        "from keras.datasets import cifar10\n",
        "batch_size = 128\n",
        "num_classes = 10\n",
        "epochs = 2\n",
        "\n",
        "# the data, split between train and test sets\n",
        "(x_train, y_train), (x_test, y_test) = cifar100.load_data()\n",
        "print('x_train shape:', x_train.shape)\n",
        "print(x_train.shape[0], 'train samples')\n",
        "print(x_test.shape[0], 'test samples')\n",
        "\n",
        "x_train = x_train.reshape(50000, 3072)\n",
        "x_test = x_test.reshape(10000, 3072)\n",
        "x_train = x_train.astype('float32')\n",
        "x_test = x_test.astype('float32')\n",
        "\n",
        "# Normalize to 0 to 1 range\n",
        "x_train /= 255\n",
        "x_test /= 255\n",
        "\n",
        "print(x_train.shape[0], 'train samples')\n",
        "print(x_test.shape[0], 'test samples')\n",
        "# convert class vectors to binary class matrices\n",
        "y_train = keras.utils.to_categorical(y_train, num_classes)\n",
        "y_test = keras.utils.to_categorical(y_test, num_classes)"
      ],
      "execution_count": 16,
      "outputs": [
        {
          "output_type": "error",
          "ename": "NameError",
          "evalue": "ignored",
          "traceback": [
            "\u001b[0;31m---------------------------------------------------------------------------\u001b[0m",
            "\u001b[0;31mNameError\u001b[0m                                 Traceback (most recent call last)",
            "\u001b[0;32m<ipython-input-16-625e540c5ed6>\u001b[0m in \u001b[0;36m<module>\u001b[0;34m()\u001b[0m\n\u001b[1;32m      5\u001b[0m \u001b[0;34m\u001b[0m\u001b[0m\n\u001b[1;32m      6\u001b[0m \u001b[0;31m# the data, split between train and test sets\u001b[0m\u001b[0;34m\u001b[0m\u001b[0;34m\u001b[0m\u001b[0;34m\u001b[0m\u001b[0m\n\u001b[0;32m----> 7\u001b[0;31m \u001b[0;34m(\u001b[0m\u001b[0mx_train\u001b[0m\u001b[0;34m,\u001b[0m \u001b[0my_train\u001b[0m\u001b[0;34m)\u001b[0m\u001b[0;34m,\u001b[0m \u001b[0;34m(\u001b[0m\u001b[0mx_test\u001b[0m\u001b[0;34m,\u001b[0m \u001b[0my_test\u001b[0m\u001b[0;34m)\u001b[0m \u001b[0;34m=\u001b[0m \u001b[0mcifar100\u001b[0m\u001b[0;34m.\u001b[0m\u001b[0mload_data\u001b[0m\u001b[0;34m(\u001b[0m\u001b[0;34m)\u001b[0m\u001b[0;34m\u001b[0m\u001b[0;34m\u001b[0m\u001b[0m\n\u001b[0m\u001b[1;32m      8\u001b[0m \u001b[0mprint\u001b[0m\u001b[0;34m(\u001b[0m\u001b[0;34m'x_train shape:'\u001b[0m\u001b[0;34m,\u001b[0m \u001b[0mx_train\u001b[0m\u001b[0;34m.\u001b[0m\u001b[0mshape\u001b[0m\u001b[0;34m)\u001b[0m\u001b[0;34m\u001b[0m\u001b[0;34m\u001b[0m\u001b[0m\n\u001b[1;32m      9\u001b[0m \u001b[0mprint\u001b[0m\u001b[0;34m(\u001b[0m\u001b[0mx_train\u001b[0m\u001b[0;34m.\u001b[0m\u001b[0mshape\u001b[0m\u001b[0;34m[\u001b[0m\u001b[0;36m0\u001b[0m\u001b[0;34m]\u001b[0m\u001b[0;34m,\u001b[0m \u001b[0;34m'train samples'\u001b[0m\u001b[0;34m)\u001b[0m\u001b[0;34m\u001b[0m\u001b[0;34m\u001b[0m\u001b[0m\n",
            "\u001b[0;31mNameError\u001b[0m: name 'cifar100' is not defined"
          ]
        }
      ]
    },
    {
      "cell_type": "code",
      "metadata": {
        "id": "PrOjh3lG4-56"
      },
      "source": [
        "from keras.layers import Dropout\n",
        "from keras.optimizers import Adam\n",
        "\n",
        "model = Sequential()\n",
        "\n",
        "model.add(Dense(4096,activation='relu', input_shape=(3072,)))\n",
        "\n",
        "model.add(Dense(1024, activation='relu'))\n",
        "\n",
        "model.add(Dense(512, activation='relu'))\n",
        "model.add(Dense(128, activation='relu'))\n",
        "model.add(Dense(64, activation='relu'))\n",
        "model.add(Dense(32, activation='relu'))\n",
        "model.add(Dense(num_classes, activation='softmax'))\n",
        "\n",
        "model.summary()\n",
        "model.compile(loss='categorical_crossentropy',\n",
        "              optimizer=Adam(),\n",
        "              metrics=['accuracy'])\n",
        "\n",
        "history = model.fit(x_train, y_train,\n",
        "                    batch_size=batch_size,\n",
        "                    epochs=10,\n",
        "                    verbose=1,\n",
        "                    validation_data=(x_test, y_test))\n",
        "score = model.evaluate(x_test, y_test, verbose=0)\n",
        "print('Test loss:', score[0])\n",
        "print('Test accuracy:', score[1])"
      ],
      "execution_count": null,
      "outputs": []
    }
  ]
}